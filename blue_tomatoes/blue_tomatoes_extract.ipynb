{
 "cells": [
  {
   "cell_type": "code",
   "execution_count": 1,
   "metadata": {},
   "outputs": [],
   "source": [
    "import pandas as pd\n",
    "import string\n",
    "import re\n",
    "import json"
   ]
  },
  {
   "cell_type": "code",
   "execution_count": 2,
   "metadata": {},
   "outputs": [],
   "source": [
    "#Loading the json file which contains yield items\n",
    "file =r'C:\\Users\\manoj praveen\\AppData\\Local\\Programs\\Python\\Python36\\webscr\\blue_tomatoes\\brad1.json'\n"
   ]
  },
  {
   "cell_type": "code",
   "execution_count": 3,
   "metadata": {},
   "outputs": [],
   "source": [
    "with open(file) as f:\n",
    "    y = json.load(f)"
   ]
  },
  {
   "cell_type": "code",
   "execution_count": 4,
   "metadata": {},
   "outputs": [
    {
     "data": {
      "text/plain": [
       "34"
      ]
     },
     "execution_count": 4,
     "metadata": {},
     "output_type": "execute_result"
    }
   ],
   "source": [
    "len(y)"
   ]
  },
  {
   "cell_type": "code",
   "execution_count": 5,
   "metadata": {},
   "outputs": [
    {
     "data": {
      "text/plain": [
       "(96, 96)"
      ]
     },
     "execution_count": 5,
     "metadata": {},
     "output_type": "execute_result"
    }
   ],
   "source": [
    "len(y[0]['name']), len(y[0]['img_url'])"
   ]
  },
  {
   "cell_type": "code",
   "execution_count": 6,
   "metadata": {},
   "outputs": [],
   "source": [
    "name = []\n",
    "price = []\n",
    "brand = []\n",
    "img_url = []\n",
    "prod_url = []"
   ]
  },
  {
   "cell_type": "code",
   "execution_count": 7,
   "metadata": {},
   "outputs": [],
   "source": [
    "#Each product has two images im different angles, therefore stored the url of first image only\n",
    "def picker(x):\n",
    "    pick = []\n",
    "    for i in range(len(x)):\n",
    "        if i%2==0:\n",
    "            pick.append(x[i])\n",
    "    return pick\n",
    "            \n",
    "    "
   ]
  },
  {
   "cell_type": "code",
   "execution_count": 8,
   "metadata": {},
   "outputs": [],
   "source": [
    "#For cleaning the price column\n",
    "def price_cleaner(price):\n",
    "    p = []\n",
    "    for i in price:\n",
    "        p.append(re.sub('[^0-9.,]', \"\", i))\n",
    "    return p"
   ]
  },
  {
   "cell_type": "code",
   "execution_count": 9,
   "metadata": {},
   "outputs": [],
   "source": [
    "#Function to form a dataframe\n",
    "def convertor(y):\n",
    "    name = y['name']\n",
    "    price = y['price']\n",
    "    brand = y['brand']\n",
    "    prod_url = y['prod_url']\n",
    "    img_url = y['img_url']\n",
    "    df = pd.DataFrame(name)\n",
    "    df['price'] = price_cleaner(price)\n",
    "    df.columns = ['name', 'price']\n",
    "    df['brand'] = brand\n",
    "    df['prod_url'] = prod_url\n",
    "    df['img_url'] = img_url\n",
    "    \n",
    "    return df"
   ]
  },
  {
   "cell_type": "code",
   "execution_count": null,
   "metadata": {},
   "outputs": [],
   "source": []
  },
  {
   "cell_type": "code",
   "execution_count": 10,
   "metadata": {},
   "outputs": [],
   "source": [
    "product = convertor(y[0])"
   ]
  },
  {
   "cell_type": "code",
   "execution_count": 11,
   "metadata": {},
   "outputs": [
    {
     "data": {
      "text/plain": [
       "['479,95',\n",
       " '279,95',\n",
       " '319,95',\n",
       " '479,95',\n",
       " '399,95',\n",
       " '399,95',\n",
       " '279,95',\n",
       " '79,95',\n",
       " '249,95',\n",
       " '54,95']"
      ]
     },
     "execution_count": 11,
     "metadata": {},
     "output_type": "execute_result"
    }
   ],
   "source": [
    "pr = price_cleaner(product['price'])\n",
    "pr[:10]"
   ]
  },
  {
   "cell_type": "code",
   "execution_count": 12,
   "metadata": {},
   "outputs": [
    {
     "data": {
      "text/html": [
       "<div>\n",
       "<style scoped>\n",
       "    .dataframe tbody tr th:only-of-type {\n",
       "        vertical-align: middle;\n",
       "    }\n",
       "\n",
       "    .dataframe tbody tr th {\n",
       "        vertical-align: top;\n",
       "    }\n",
       "\n",
       "    .dataframe thead th {\n",
       "        text-align: right;\n",
       "    }\n",
       "</style>\n",
       "<table border=\"1\" class=\"dataframe\">\n",
       "  <thead>\n",
       "    <tr style=\"text-align: right;\">\n",
       "      <th></th>\n",
       "      <th>name</th>\n",
       "      <th>price</th>\n",
       "      <th>brand</th>\n",
       "      <th>prod_url</th>\n",
       "      <th>img_url</th>\n",
       "    </tr>\n",
       "  </thead>\n",
       "  <tbody>\n",
       "    <tr>\n",
       "      <th>0</th>\n",
       "      <td>Capita Defenders Of Awesome 154 2021</td>\n",
       "      <td>479,95</td>\n",
       "      <td>Capita</td>\n",
       "      <td>/de-DE/product/Capita-Defenders+Of+Awesome+154...</td>\n",
       "      <td>//images.blue-tomato.com/is/image/bluetomato/3...</td>\n",
       "    </tr>\n",
       "    <tr>\n",
       "      <th>1</th>\n",
       "      <td>Burton Step On 2021</td>\n",
       "      <td>279,95</td>\n",
       "      <td>Burton</td>\n",
       "      <td>/de-DE/product/Burton-Step+On+2020+Snowboardbi...</td>\n",
       "      <td>//images.blue-tomato.com/is/image/bluetomato/3...</td>\n",
       "    </tr>\n",
       "    <tr>\n",
       "      <th>2</th>\n",
       "      <td>Ride Lasso 2021</td>\n",
       "      <td>319,95</td>\n",
       "      <td>Ride</td>\n",
       "      <td>/de-DE/product/Ride-Lasso+2021+Snowboardboots-...</td>\n",
       "      <td>//images.blue-tomato.com/is/image/bluetomato/3...</td>\n",
       "    </tr>\n",
       "    <tr>\n",
       "      <th>3</th>\n",
       "      <td>Capita Defenders Of Awesome 158 2021</td>\n",
       "      <td>479,95</td>\n",
       "      <td>Capita</td>\n",
       "      <td>/de-DE/product/Capita-Defenders+Of+Awesome+158...</td>\n",
       "      <td>//images.blue-tomato.com/is/image/bluetomato/3...</td>\n",
       "    </tr>\n",
       "    <tr>\n",
       "      <th>4</th>\n",
       "      <td>Burton Step On X 2021</td>\n",
       "      <td>399,95</td>\n",
       "      <td>Burton</td>\n",
       "      <td>/de-DE/product/Burton-Step+On+X+2021+Snowboard...</td>\n",
       "      <td>//images.blue-tomato.com/is/image/bluetomato/3...</td>\n",
       "    </tr>\n",
       "  </tbody>\n",
       "</table>\n",
       "</div>"
      ],
      "text/plain": [
       "                                   name   price   brand  \\\n",
       "0  Capita Defenders Of Awesome 154 2021  479,95  Capita   \n",
       "1                   Burton Step On 2021  279,95  Burton   \n",
       "2                       Ride Lasso 2021  319,95    Ride   \n",
       "3  Capita Defenders Of Awesome 158 2021  479,95  Capita   \n",
       "4                 Burton Step On X 2021  399,95  Burton   \n",
       "\n",
       "                                            prod_url  \\\n",
       "0  /de-DE/product/Capita-Defenders+Of+Awesome+154...   \n",
       "1  /de-DE/product/Burton-Step+On+2020+Snowboardbi...   \n",
       "2  /de-DE/product/Ride-Lasso+2021+Snowboardboots-...   \n",
       "3  /de-DE/product/Capita-Defenders+Of+Awesome+158...   \n",
       "4  /de-DE/product/Burton-Step+On+X+2021+Snowboard...   \n",
       "\n",
       "                                             img_url  \n",
       "0  //images.blue-tomato.com/is/image/bluetomato/3...  \n",
       "1  //images.blue-tomato.com/is/image/bluetomato/3...  \n",
       "2  //images.blue-tomato.com/is/image/bluetomato/3...  \n",
       "3  //images.blue-tomato.com/is/image/bluetomato/3...  \n",
       "4  //images.blue-tomato.com/is/image/bluetomato/3...  "
      ]
     },
     "execution_count": 12,
     "metadata": {},
     "output_type": "execute_result"
    }
   ],
   "source": [
    "product.head()"
   ]
  },
  {
   "cell_type": "code",
   "execution_count": 13,
   "metadata": {},
   "outputs": [
    {
     "data": {
      "text/plain": [
       "5     //images.blue-tomato.com/is/image/bluetomato/3...\n",
       "6     //images.blue-tomato.com/is/image/bluetomato/3...\n",
       "7     //images.blue-tomato.com/is/image/bluetomato/3...\n",
       "8     //images.blue-tomato.com/is/image/bluetomato/3...\n",
       "9     //images.blue-tomato.com/is/image/bluetomato/3...\n",
       "10    //images.blue-tomato.com/is/image/bluetomato/3...\n",
       "11    //images.blue-tomato.com/is/image/bluetomato/3...\n",
       "Name: img_url, dtype: object"
      ]
     },
     "execution_count": 13,
     "metadata": {},
     "output_type": "execute_result"
    }
   ],
   "source": [
    "product['img_url'][5:12]"
   ]
  },
  {
   "cell_type": "code",
   "execution_count": 14,
   "metadata": {},
   "outputs": [
    {
     "data": {
      "text/plain": [
       "3241"
      ]
     },
     "execution_count": 14,
     "metadata": {},
     "output_type": "execute_result"
    }
   ],
   "source": [
    "#Forms a full dataframe with all the values\n",
    "data = product.copy()\n",
    "for  i in range(1,len(y)):\n",
    "    df = convertor(y[i])\n",
    "    data = pd.concat([data, df])\n",
    "len(data)"
   ]
  },
  {
   "cell_type": "code",
   "execution_count": 15,
   "metadata": {},
   "outputs": [
    {
     "data": {
      "text/html": [
       "<div>\n",
       "<style scoped>\n",
       "    .dataframe tbody tr th:only-of-type {\n",
       "        vertical-align: middle;\n",
       "    }\n",
       "\n",
       "    .dataframe tbody tr th {\n",
       "        vertical-align: top;\n",
       "    }\n",
       "\n",
       "    .dataframe thead th {\n",
       "        text-align: right;\n",
       "    }\n",
       "</style>\n",
       "<table border=\"1\" class=\"dataframe\">\n",
       "  <thead>\n",
       "    <tr style=\"text-align: right;\">\n",
       "      <th></th>\n",
       "      <th>name</th>\n",
       "      <th>price</th>\n",
       "      <th>brand</th>\n",
       "      <th>prod_url</th>\n",
       "      <th>img_url</th>\n",
       "    </tr>\n",
       "  </thead>\n",
       "  <tbody>\n",
       "    <tr>\n",
       "      <th>0</th>\n",
       "      <td>Capita Defenders Of Awesome 154 2021</td>\n",
       "      <td>479,95</td>\n",
       "      <td>Capita</td>\n",
       "      <td>/de-DE/product/Capita-Defenders+Of+Awesome+154...</td>\n",
       "      <td>//images.blue-tomato.com/is/image/bluetomato/3...</td>\n",
       "    </tr>\n",
       "    <tr>\n",
       "      <th>1</th>\n",
       "      <td>Burton Step On 2021</td>\n",
       "      <td>279,95</td>\n",
       "      <td>Burton</td>\n",
       "      <td>/de-DE/product/Burton-Step+On+2020+Snowboardbi...</td>\n",
       "      <td>//images.blue-tomato.com/is/image/bluetomato/3...</td>\n",
       "    </tr>\n",
       "    <tr>\n",
       "      <th>2</th>\n",
       "      <td>Ride Lasso 2021</td>\n",
       "      <td>319,95</td>\n",
       "      <td>Ride</td>\n",
       "      <td>/de-DE/product/Ride-Lasso+2021+Snowboardboots-...</td>\n",
       "      <td>//images.blue-tomato.com/is/image/bluetomato/3...</td>\n",
       "    </tr>\n",
       "    <tr>\n",
       "      <th>3</th>\n",
       "      <td>Capita Defenders Of Awesome 158 2021</td>\n",
       "      <td>479,95</td>\n",
       "      <td>Capita</td>\n",
       "      <td>/de-DE/product/Capita-Defenders+Of+Awesome+158...</td>\n",
       "      <td>//images.blue-tomato.com/is/image/bluetomato/3...</td>\n",
       "    </tr>\n",
       "    <tr>\n",
       "      <th>4</th>\n",
       "      <td>Burton Step On X 2021</td>\n",
       "      <td>399,95</td>\n",
       "      <td>Burton</td>\n",
       "      <td>/de-DE/product/Burton-Step+On+X+2021+Snowboard...</td>\n",
       "      <td>//images.blue-tomato.com/is/image/bluetomato/3...</td>\n",
       "    </tr>\n",
       "  </tbody>\n",
       "</table>\n",
       "</div>"
      ],
      "text/plain": [
       "                                   name   price   brand  \\\n",
       "0  Capita Defenders Of Awesome 154 2021  479,95  Capita   \n",
       "1                   Burton Step On 2021  279,95  Burton   \n",
       "2                       Ride Lasso 2021  319,95    Ride   \n",
       "3  Capita Defenders Of Awesome 158 2021  479,95  Capita   \n",
       "4                 Burton Step On X 2021  399,95  Burton   \n",
       "\n",
       "                                            prod_url  \\\n",
       "0  /de-DE/product/Capita-Defenders+Of+Awesome+154...   \n",
       "1  /de-DE/product/Burton-Step+On+2020+Snowboardbi...   \n",
       "2  /de-DE/product/Ride-Lasso+2021+Snowboardboots-...   \n",
       "3  /de-DE/product/Capita-Defenders+Of+Awesome+158...   \n",
       "4  /de-DE/product/Burton-Step+On+X+2021+Snowboard...   \n",
       "\n",
       "                                             img_url  \n",
       "0  //images.blue-tomato.com/is/image/bluetomato/3...  \n",
       "1  //images.blue-tomato.com/is/image/bluetomato/3...  \n",
       "2  //images.blue-tomato.com/is/image/bluetomato/3...  \n",
       "3  //images.blue-tomato.com/is/image/bluetomato/3...  \n",
       "4  //images.blue-tomato.com/is/image/bluetomato/3...  "
      ]
     },
     "execution_count": 15,
     "metadata": {},
     "output_type": "execute_result"
    }
   ],
   "source": [
    "data.head()"
   ]
  },
  {
   "cell_type": "code",
   "execution_count": 16,
   "metadata": {},
   "outputs": [
    {
     "data": {
      "text/html": [
       "<div>\n",
       "<style scoped>\n",
       "    .dataframe tbody tr th:only-of-type {\n",
       "        vertical-align: middle;\n",
       "    }\n",
       "\n",
       "    .dataframe tbody tr th {\n",
       "        vertical-align: top;\n",
       "    }\n",
       "\n",
       "    .dataframe thead th {\n",
       "        text-align: right;\n",
       "    }\n",
       "</style>\n",
       "<table border=\"1\" class=\"dataframe\">\n",
       "  <thead>\n",
       "    <tr style=\"text-align: right;\">\n",
       "      <th></th>\n",
       "      <th>name</th>\n",
       "      <th>price</th>\n",
       "      <th>brand</th>\n",
       "      <th>prod_url</th>\n",
       "      <th>img_url</th>\n",
       "    </tr>\n",
       "  </thead>\n",
       "  <tbody>\n",
       "    <tr>\n",
       "      <th>68</th>\n",
       "      <td>Marker Clark Helmet</td>\n",
       "      <td>159,95</td>\n",
       "      <td>Marker</td>\n",
       "      <td>/de-DE/product/Marker-Clark+Helm-542499/</td>\n",
       "      <td>//images.blue-tomato.com/is/image/bluetomato/3...</td>\n",
       "    </tr>\n",
       "    <tr>\n",
       "      <th>69</th>\n",
       "      <td>Dainese Flexagon Waistcoat</td>\n",
       "      <td>119,95</td>\n",
       "      <td>Dainese</td>\n",
       "      <td>/de-DE/product/Dainese-Flexagon+Waistcoat+Ruec...</td>\n",
       "      <td>//images.blue-tomato.com/is/image/bluetomato/3...</td>\n",
       "    </tr>\n",
       "    <tr>\n",
       "      <th>70</th>\n",
       "      <td>Quiksilver Slush Helmet</td>\n",
       "      <td>59,95</td>\n",
       "      <td>Quiksilver</td>\n",
       "      <td>/de-DE/product/Quiksilver-Slush+Helm-570446/?c...</td>\n",
       "      <td>//images.blue-tomato.com/is/image/bluetomato/3...</td>\n",
       "    </tr>\n",
       "    <tr>\n",
       "      <th>71</th>\n",
       "      <td>Bern Lenox Thinshell with Boa Helmet</td>\n",
       "      <td>59,95</td>\n",
       "      <td>Bern</td>\n",
       "      <td>/de-DE/product/Bern-Lenox+Thinshell+with+Boa+H...</td>\n",
       "      <td>//images.blue-tomato.com/is/image/bluetomato/3...</td>\n",
       "    </tr>\n",
       "    <tr>\n",
       "      <th>72</th>\n",
       "      <td>TSG Gravity Graphic Design Helmet</td>\n",
       "      <td>119,95</td>\n",
       "      <td>TSG</td>\n",
       "      <td>/de-DE/product/TSG-Gravity+Graphic+Design+Helm...</td>\n",
       "      <td>//images.blue-tomato.com/is/image/bluetomato/3...</td>\n",
       "    </tr>\n",
       "  </tbody>\n",
       "</table>\n",
       "</div>"
      ],
      "text/plain": [
       "                                    name   price       brand  \\\n",
       "68                   Marker Clark Helmet  159,95      Marker   \n",
       "69            Dainese Flexagon Waistcoat  119,95     Dainese   \n",
       "70               Quiksilver Slush Helmet   59,95  Quiksilver   \n",
       "71  Bern Lenox Thinshell with Boa Helmet   59,95        Bern   \n",
       "72     TSG Gravity Graphic Design Helmet  119,95         TSG   \n",
       "\n",
       "                                             prod_url  \\\n",
       "68           /de-DE/product/Marker-Clark+Helm-542499/   \n",
       "69  /de-DE/product/Dainese-Flexagon+Waistcoat+Ruec...   \n",
       "70  /de-DE/product/Quiksilver-Slush+Helm-570446/?c...   \n",
       "71  /de-DE/product/Bern-Lenox+Thinshell+with+Boa+H...   \n",
       "72  /de-DE/product/TSG-Gravity+Graphic+Design+Helm...   \n",
       "\n",
       "                                              img_url  \n",
       "68  //images.blue-tomato.com/is/image/bluetomato/3...  \n",
       "69  //images.blue-tomato.com/is/image/bluetomato/3...  \n",
       "70  //images.blue-tomato.com/is/image/bluetomato/3...  \n",
       "71  //images.blue-tomato.com/is/image/bluetomato/3...  \n",
       "72  //images.blue-tomato.com/is/image/bluetomato/3...  "
      ]
     },
     "execution_count": 16,
     "metadata": {},
     "output_type": "execute_result"
    }
   ],
   "source": [
    "data.tail()"
   ]
  },
  {
   "cell_type": "code",
   "execution_count": 17,
   "metadata": {},
   "outputs": [
    {
     "data": {
      "text/html": [
       "<div>\n",
       "<style scoped>\n",
       "    .dataframe tbody tr th:only-of-type {\n",
       "        vertical-align: middle;\n",
       "    }\n",
       "\n",
       "    .dataframe tbody tr th {\n",
       "        vertical-align: top;\n",
       "    }\n",
       "\n",
       "    .dataframe thead th {\n",
       "        text-align: right;\n",
       "    }\n",
       "</style>\n",
       "<table border=\"1\" class=\"dataframe\">\n",
       "  <thead>\n",
       "    <tr style=\"text-align: right;\">\n",
       "      <th></th>\n",
       "      <th>name</th>\n",
       "      <th>price</th>\n",
       "      <th>brand</th>\n",
       "      <th>prod_url</th>\n",
       "      <th>img_url</th>\n",
       "    </tr>\n",
       "  </thead>\n",
       "  <tbody>\n",
       "    <tr>\n",
       "      <th>3236</th>\n",
       "      <td>Marker Clark Helmet</td>\n",
       "      <td>159,95</td>\n",
       "      <td>Marker</td>\n",
       "      <td>/de-DE/product/Marker-Clark+Helm-542499/</td>\n",
       "      <td>//images.blue-tomato.com/is/image/bluetomato/3...</td>\n",
       "    </tr>\n",
       "    <tr>\n",
       "      <th>3237</th>\n",
       "      <td>Dainese Flexagon Waistcoat</td>\n",
       "      <td>119,95</td>\n",
       "      <td>Dainese</td>\n",
       "      <td>/de-DE/product/Dainese-Flexagon+Waistcoat+Ruec...</td>\n",
       "      <td>//images.blue-tomato.com/is/image/bluetomato/3...</td>\n",
       "    </tr>\n",
       "    <tr>\n",
       "      <th>3238</th>\n",
       "      <td>Quiksilver Slush Helmet</td>\n",
       "      <td>59,95</td>\n",
       "      <td>Quiksilver</td>\n",
       "      <td>/de-DE/product/Quiksilver-Slush+Helm-570446/?c...</td>\n",
       "      <td>//images.blue-tomato.com/is/image/bluetomato/3...</td>\n",
       "    </tr>\n",
       "    <tr>\n",
       "      <th>3239</th>\n",
       "      <td>Bern Lenox Thinshell with Boa Helmet</td>\n",
       "      <td>59,95</td>\n",
       "      <td>Bern</td>\n",
       "      <td>/de-DE/product/Bern-Lenox+Thinshell+with+Boa+H...</td>\n",
       "      <td>//images.blue-tomato.com/is/image/bluetomato/3...</td>\n",
       "    </tr>\n",
       "    <tr>\n",
       "      <th>3240</th>\n",
       "      <td>TSG Gravity Graphic Design Helmet</td>\n",
       "      <td>119,95</td>\n",
       "      <td>TSG</td>\n",
       "      <td>/de-DE/product/TSG-Gravity+Graphic+Design+Helm...</td>\n",
       "      <td>//images.blue-tomato.com/is/image/bluetomato/3...</td>\n",
       "    </tr>\n",
       "  </tbody>\n",
       "</table>\n",
       "</div>"
      ],
      "text/plain": [
       "                                      name   price       brand  \\\n",
       "3236                   Marker Clark Helmet  159,95      Marker   \n",
       "3237            Dainese Flexagon Waistcoat  119,95     Dainese   \n",
       "3238               Quiksilver Slush Helmet   59,95  Quiksilver   \n",
       "3239  Bern Lenox Thinshell with Boa Helmet   59,95        Bern   \n",
       "3240     TSG Gravity Graphic Design Helmet  119,95         TSG   \n",
       "\n",
       "                                               prod_url  \\\n",
       "3236           /de-DE/product/Marker-Clark+Helm-542499/   \n",
       "3237  /de-DE/product/Dainese-Flexagon+Waistcoat+Ruec...   \n",
       "3238  /de-DE/product/Quiksilver-Slush+Helm-570446/?c...   \n",
       "3239  /de-DE/product/Bern-Lenox+Thinshell+with+Boa+H...   \n",
       "3240  /de-DE/product/TSG-Gravity+Graphic+Design+Helm...   \n",
       "\n",
       "                                                img_url  \n",
       "3236  //images.blue-tomato.com/is/image/bluetomato/3...  \n",
       "3237  //images.blue-tomato.com/is/image/bluetomato/3...  \n",
       "3238  //images.blue-tomato.com/is/image/bluetomato/3...  \n",
       "3239  //images.blue-tomato.com/is/image/bluetomato/3...  \n",
       "3240  //images.blue-tomato.com/is/image/bluetomato/3...  "
      ]
     },
     "execution_count": 17,
     "metadata": {},
     "output_type": "execute_result"
    }
   ],
   "source": [
    "data1 = data.reset_index(drop=True)\n",
    "data1.tail()"
   ]
  },
  {
   "cell_type": "code",
   "execution_count": 19,
   "metadata": {},
   "outputs": [
    {
     "data": {
      "text/plain": [
       "0    //images.blue-tomato.com/is/image/bluetomato/3...\n",
       "Name: img_url, dtype: object"
      ]
     },
     "execution_count": 19,
     "metadata": {},
     "output_type": "execute_result"
    }
   ],
   "source": [
    "data1[['name', 'img_url']][:96]\n",
    "data1['img_url'][:1]"
   ]
  },
  {
   "cell_type": "code",
   "execution_count": 20,
   "metadata": {},
   "outputs": [],
   "source": [
    "#Saves dataframe into csv\n",
    "data1.to_csv('blue_tomatoes.csv')"
   ]
  },
  {
   "cell_type": "code",
   "execution_count": null,
   "metadata": {},
   "outputs": [],
   "source": []
  }
 ],
 "metadata": {
  "kernelspec": {
   "display_name": "Python 3",
   "language": "python",
   "name": "python3"
  },
  "language_info": {
   "codemirror_mode": {
    "name": "ipython",
    "version": 3
   },
   "file_extension": ".py",
   "mimetype": "text/x-python",
   "name": "python",
   "nbconvert_exporter": "python",
   "pygments_lexer": "ipython3",
   "version": "3.7.1"
  }
 },
 "nbformat": 4,
 "nbformat_minor": 2
}
